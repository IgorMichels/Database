{
 "cells": [
  {
   "cell_type": "code",
   "execution_count": null,
   "metadata": {},
   "outputs": [],
   "source": [
    "import pandas as pd\n",
    "\n",
    "local = \"../Csvs/\"\n",
    "arquivos = ['2019-01', '2019-02', '2019-03', '2019-04',\n",
    "            '2019-05', '2019-06', '2019-07', '2019-08',\n",
    "            '2019-09', '2019-10', '2019-11', '2019-12',\n",
    "            '2020-01', '2020-02', '2020-03', '2020-04',\n",
    "            '2020-05'] # lista de arquivos que temos"
   ]
  },
  {
   "cell_type": "code",
   "execution_count": 46,
   "metadata": {},
   "outputs": [],
   "source": [
    "df_companies = pd.read_csv('companies.csv', delimiter=',')\n",
    "df_cities = df_companies.loc[:,['City','State']].drop_duplicates()"
   ]
  },
  {
   "cell_type": "code",
   "execution_count": 47,
   "metadata": {},
   "outputs": [
    {
     "data": {
      "text/html": [
       "<div>\n",
       "<style scoped>\n",
       "    .dataframe tbody tr th:only-of-type {\n",
       "        vertical-align: middle;\n",
       "    }\n",
       "\n",
       "    .dataframe tbody tr th {\n",
       "        vertical-align: top;\n",
       "    }\n",
       "\n",
       "    .dataframe thead th {\n",
       "        text-align: right;\n",
       "    }\n",
       "</style>\n",
       "<table border=\"1\" class=\"dataframe\">\n",
       "  <thead>\n",
       "    <tr style=\"text-align: right;\">\n",
       "      <th></th>\n",
       "      <th>City</th>\n",
       "      <th>State</th>\n",
       "    </tr>\n",
       "  </thead>\n",
       "  <tbody>\n",
       "    <tr>\n",
       "      <th>0</th>\n",
       "      <td>LONG ISLAND CITY</td>\n",
       "      <td>NEW YORK</td>\n",
       "    </tr>\n",
       "    <tr>\n",
       "      <th>1</th>\n",
       "      <td>NORWALK</td>\n",
       "      <td>CONNECTICUT</td>\n",
       "    </tr>\n",
       "    <tr>\n",
       "      <th>2</th>\n",
       "      <td>SYKESVILLE</td>\n",
       "      <td>MARYLAND</td>\n",
       "    </tr>\n",
       "    <tr>\n",
       "      <th>3</th>\n",
       "      <td>ATLANTA</td>\n",
       "      <td>GEORGIA</td>\n",
       "    </tr>\n",
       "    <tr>\n",
       "      <th>4</th>\n",
       "      <td>WAUPUN</td>\n",
       "      <td>WISCONSIN</td>\n",
       "    </tr>\n",
       "    <tr>\n",
       "      <th>...</th>\n",
       "      <td>...</td>\n",
       "      <td>...</td>\n",
       "    </tr>\n",
       "    <tr>\n",
       "      <th>136</th>\n",
       "      <td>GREENBELT</td>\n",
       "      <td>MARYLAND</td>\n",
       "    </tr>\n",
       "    <tr>\n",
       "      <th>137</th>\n",
       "      <td>SPRINGFIELD</td>\n",
       "      <td>OHIO</td>\n",
       "    </tr>\n",
       "    <tr>\n",
       "      <th>143</th>\n",
       "      <td>NORFOLK</td>\n",
       "      <td>NaN</td>\n",
       "    </tr>\n",
       "    <tr>\n",
       "      <th>146</th>\n",
       "      <td>MILFORD</td>\n",
       "      <td>NEBRASKA</td>\n",
       "    </tr>\n",
       "    <tr>\n",
       "      <th>147</th>\n",
       "      <td>LEESBURG</td>\n",
       "      <td>VIRGINIA</td>\n",
       "    </tr>\n",
       "  </tbody>\n",
       "</table>\n",
       "<p>83 rows × 2 columns</p>\n",
       "</div>"
      ],
      "text/plain": [
       "                 City        State\n",
       "0    LONG ISLAND CITY     NEW YORK\n",
       "1             NORWALK  CONNECTICUT\n",
       "2          SYKESVILLE     MARYLAND\n",
       "3             ATLANTA      GEORGIA\n",
       "4              WAUPUN    WISCONSIN\n",
       "..                ...          ...\n",
       "136         GREENBELT     MARYLAND\n",
       "137       SPRINGFIELD         OHIO\n",
       "143           NORFOLK          NaN\n",
       "146           MILFORD     NEBRASKA\n",
       "147          LEESBURG     VIRGINIA\n",
       "\n",
       "[83 rows x 2 columns]"
      ]
     },
     "execution_count": 47,
     "metadata": {},
     "output_type": "execute_result"
    }
   ],
   "source": [
    "df_cities"
   ]
  },
  {
   "cell_type": "code",
   "execution_count": 48,
   "metadata": {},
   "outputs": [],
   "source": [
    "for arquivo in arquivos:\n",
    "    df1 = pd.read_csv(local + arquivo + ' compressed.csv', delimiter=';').loc[:,['ORIGIN_CITY_NAME','ORIGIN_STATE_NM']]\n",
    "    df1.columns = ['City','State']\n",
    "    df2 = pd.read_csv(local + arquivo + ' compressed.csv', delimiter=';').loc[:,['DEST_CITY_NAME','DEST_STATE_NM']].drop_duplicates()\n",
    "    df2.columns = ['City','State']\n",
    "    df = pd.concat([df1,df2]).drop_duplicates()\n",
    "    df = df.applymap(lambda x: x.upper())\n",
    "    df.City = df.City.apply(lambda x: (x[:-4]))\n",
    "    df_cities = pd.concat([df_cities,df]).drop_duplicates()"
   ]
  },
  {
   "cell_type": "code",
   "execution_count": 49,
   "metadata": {},
   "outputs": [],
   "source": [
    "df_cities.City = df_cities.City.apply(lambda x: x.upper())\n",
    "df_cities = df_cities.drop_duplicates()\n",
    "df_cities = df_cities.sort_values(by='City',ascending=True)\n",
    "df_cities.index = range(1,df_cities.shape[0]+1)"
   ]
  },
  {
   "cell_type": "code",
   "execution_count": 55,
   "metadata": {},
   "outputs": [],
   "source": [
    "df_cities.to_csv('cities.csv', sep=',', index=False)"
   ]
  },
  {
   "cell_type": "code",
   "execution_count": null,
   "metadata": {},
   "outputs": [],
   "source": [
    "pd.to_csv?"
   ]
  },
  {
   "cell_type": "code",
   "execution_count": null,
   "metadata": {},
   "outputs": [],
   "source": []
  }
 ],
 "metadata": {
  "kernelspec": {
   "display_name": "Python 3",
   "language": "python",
   "name": "python3"
  },
  "language_info": {
   "codemirror_mode": {
    "name": "ipython",
    "version": 3
   },
   "file_extension": ".py",
   "mimetype": "text/x-python",
   "name": "python",
   "nbconvert_exporter": "python",
   "pygments_lexer": "ipython3",
   "version": "3.7.6"
  }
 },
 "nbformat": 4,
 "nbformat_minor": 4
}
