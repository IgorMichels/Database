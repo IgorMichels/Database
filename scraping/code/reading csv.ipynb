{
 "cells": [
  {
   "cell_type": "code",
   "execution_count": 1,
   "metadata": {},
   "outputs": [],
   "source": [
    "import pandas as pd\n",
    "\n",
    "local = 'C:/Users/igorm/Desktop/FGV/4º Semestre/07 - Banco de Dados/Csvs/'\n",
    "novo_local = 'C:/Users/igorm/Desktop/FGV/4º Semestre/07 - Banco de Dados/Database/Csvs/'\n",
    "arquivos = ['2019-01', '2019-02', '2019-03', '2019-04',\n",
    "            '2019-05', '2019-06', '2019-07', '2019-08',\n",
    "            '2019-09', '2019-10', '2019-11', '2019-12',\n",
    "            '2020-01', '2020-02', '2020-03', '2020-04',\n",
    "            '2020-05'] # lista de arquivos que temos\n",
    "delete = [line.rstrip() for line in open(local + 'delete.txt')] # lista de colunas a serem deletadas"
   ]
  },
  {
   "cell_type": "code",
   "execution_count": 2,
   "metadata": {},
   "outputs": [
    {
     "name": "stderr",
     "output_type": "stream",
     "text": [
      "C:\\Users\\igorm\\Anaconda3\\lib\\site-packages\\IPython\\core\\interactiveshell.py:3057: DtypeWarning: Columns (77,84,85) have mixed types. Specify dtype option on import or set low_memory=False.\n",
      "  interactivity=interactivity, compiler=compiler, result=result)\n"
     ]
    },
    {
     "name": "stdout",
     "output_type": "stream",
     "text": [
      "2019-01\n",
      "2019-02\n",
      "2019-03\n"
     ]
    },
    {
     "name": "stderr",
     "output_type": "stream",
     "text": [
      "C:\\Users\\igorm\\Anaconda3\\lib\\site-packages\\IPython\\core\\interactiveshell.py:3057: DtypeWarning: Columns (48,77,84) have mixed types. Specify dtype option on import or set low_memory=False.\n",
      "  interactivity=interactivity, compiler=compiler, result=result)\n"
     ]
    },
    {
     "name": "stdout",
     "output_type": "stream",
     "text": [
      "2019-04\n",
      "2019-05\n",
      "2019-06\n",
      "2019-07\n"
     ]
    },
    {
     "name": "stderr",
     "output_type": "stream",
     "text": [
      "C:\\Users\\igorm\\Anaconda3\\lib\\site-packages\\IPython\\core\\interactiveshell.py:3057: DtypeWarning: Columns (77,84) have mixed types. Specify dtype option on import or set low_memory=False.\n",
      "  interactivity=interactivity, compiler=compiler, result=result)\n"
     ]
    },
    {
     "name": "stdout",
     "output_type": "stream",
     "text": [
      "2019-08\n",
      "2019-09\n"
     ]
    },
    {
     "name": "stderr",
     "output_type": "stream",
     "text": [
      "C:\\Users\\igorm\\Anaconda3\\lib\\site-packages\\IPython\\core\\interactiveshell.py:3057: DtypeWarning: Columns (48,76,77,84) have mixed types. Specify dtype option on import or set low_memory=False.\n",
      "  interactivity=interactivity, compiler=compiler, result=result)\n"
     ]
    },
    {
     "name": "stdout",
     "output_type": "stream",
     "text": [
      "2019-10\n"
     ]
    },
    {
     "name": "stderr",
     "output_type": "stream",
     "text": [
      "C:\\Users\\igorm\\Anaconda3\\lib\\site-packages\\IPython\\core\\interactiveshell.py:3057: DtypeWarning: Columns (48,69,76,77,84) have mixed types. Specify dtype option on import or set low_memory=False.\n",
      "  interactivity=interactivity, compiler=compiler, result=result)\n"
     ]
    },
    {
     "name": "stdout",
     "output_type": "stream",
     "text": [
      "2019-11\n",
      "2019-12\n"
     ]
    },
    {
     "name": "stderr",
     "output_type": "stream",
     "text": [
      "C:\\Users\\igorm\\Anaconda3\\lib\\site-packages\\IPython\\core\\interactiveshell.py:3057: DtypeWarning: Columns (69,76,77,84,85,92) have mixed types. Specify dtype option on import or set low_memory=False.\n",
      "  interactivity=interactivity, compiler=compiler, result=result)\n"
     ]
    },
    {
     "name": "stdout",
     "output_type": "stream",
     "text": [
      "2020-01\n",
      "2020-02\n",
      "2020-03\n",
      "2020-04\n"
     ]
    },
    {
     "name": "stderr",
     "output_type": "stream",
     "text": [
      "C:\\Users\\igorm\\Anaconda3\\lib\\site-packages\\IPython\\core\\interactiveshell.py:3057: DtypeWarning: Columns (69,76,77,84) have mixed types. Specify dtype option on import or set low_memory=False.\n",
      "  interactivity=interactivity, compiler=compiler, result=result)\n"
     ]
    },
    {
     "name": "stdout",
     "output_type": "stream",
     "text": [
      "2020-05\n"
     ]
    }
   ],
   "source": [
    "# conferindo se todos os label's batem\n",
    "\n",
    "dataframe = pd.read_csv(local + arquivos[0] + '.csv', delimiter=';')\n",
    "\n",
    "for arquivo in arquivos:\n",
    "    print(arquivo)\n",
    "    dataframe2 = pd.read_csv(local + arquivo + '.csv', delimiter=';')\n",
    "    for teste in dataframe2.axes[1] == dataframe.axes[1]:\n",
    "        if teste == False:\n",
    "            print(\"Erro!!\")"
   ]
  },
  {
   "cell_type": "code",
   "execution_count": 3,
   "metadata": {},
   "outputs": [],
   "source": [
    "# ia fazer dessa forma, mas trava demais aqui\n",
    "\n",
    "# for arquivo in arquivos:\n",
    "#     if arquivo == \"2019-01.csv\":\n",
    "#         pass\n",
    "#     else:\n",
    "#         dataframe2 = pd.read_csv(local + arquivo, delimiter=';')\n",
    "#         frames = [dataframe, dataframe2]\n",
    "#         dataframe = pd.concat(frames)"
   ]
  },
  {
   "cell_type": "code",
   "execution_count": 4,
   "metadata": {},
   "outputs": [
    {
     "name": "stdout",
     "output_type": "stream",
     "text": [
      "2019-01 finalizado\n",
      "2019-02 finalizado\n",
      "2019-03 finalizado\n",
      "2019-04 finalizado\n",
      "2019-05 finalizado\n",
      "2019-06 finalizado\n",
      "2019-07 finalizado\n",
      "2019-08 finalizado\n",
      "2019-09 finalizado\n",
      "2019-10 finalizado\n",
      "2019-11 finalizado\n",
      "2019-12 finalizado\n",
      "2020-01 finalizado\n",
      "2020-02 finalizado\n",
      "2020-03 finalizado\n",
      "2020-04 finalizado\n",
      "2020-05 finalizado\n"
     ]
    }
   ],
   "source": [
    "for arquivo in arquivos:\n",
    "    dataframe = pd.read_csv(local + arquivo + '.csv', delimiter=';')\n",
    "    for deleting in delete:\n",
    "        dataframe = dataframe.drop(deleting, 1)\n",
    "    dataframe.to_csv(novo_local + arquivo + ' compressed.csv', sep = ';')\n",
    "    print(arquivo, 'finalizado')"
   ]
  },
  {
   "cell_type": "code",
   "execution_count": null,
   "metadata": {},
   "outputs": [],
   "source": []
  }
 ],
 "metadata": {
  "kernelspec": {
   "display_name": "Python 3",
   "language": "python",
   "name": "python3"
  },
  "language_info": {
   "codemirror_mode": {
    "name": "ipython",
    "version": 3
   },
   "file_extension": ".py",
   "mimetype": "text/x-python",
   "name": "python",
   "nbconvert_exporter": "python",
   "pygments_lexer": "ipython3",
   "version": "3.7.3"
  }
 },
 "nbformat": 4,
 "nbformat_minor": 4
}
